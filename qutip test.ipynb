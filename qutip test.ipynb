{
 "cells": [
  {
   "cell_type": "code",
   "execution_count": 13,
   "metadata": {},
   "outputs": [],
   "source": [
    "from qutip import *"
   ]
  },
  {
   "cell_type": "code",
   "execution_count": 2,
   "metadata": {},
   "outputs": [],
   "source": [
    "import scipy as sp"
   ]
  },
  {
   "cell_type": "code",
   "execution_count": 15,
   "metadata": {},
   "outputs": [],
   "source": [
    "import numpy as np"
   ]
  },
  {
   "cell_type": "code",
   "execution_count": 11,
   "metadata": {},
   "outputs": [],
   "source": [
    "import matplotlib as mtl"
   ]
  },
  {
   "cell_type": "code",
   "execution_count": 16,
   "metadata": {},
   "outputs": [
    {
     "name": "stdout",
     "output_type": "stream",
     "text": [
      "\n",
      "QuTiP: Quantum Toolbox in Python\n",
      "Copyright (c) 2011 and later.\n",
      "A. J. Pitchford, P. D. Nation, R. J. Johansson, A. Grimsmo, and C. Granade\n",
      "\n",
      "QuTiP Version:      4.2.0\n",
      "Numpy Version:      1.14.3\n",
      "Scipy Version:      1.1.0\n",
      "Cython Version:     0.28.2\n",
      "Matplotlib Version: 2.2.2\n",
      "Python Version:     3.5.5\n",
      "Number of CPUs:     2\n",
      "BLAS Info:          INTEL MKL\n",
      "OPENMP Installed:   False\n",
      "INTEL MKL Ext:      True\n",
      "Platform Info:      Linux (i686)\n",
      "Installation path:  /home/ren/anaconda3/envs/qutip/lib/python3.5/site-packages/qutip\n",
      "\n"
     ]
    }
   ],
   "source": [
    "from qutip import *\n",
    "about()"
   ]
  },
  {
   "cell_type": "code",
   "execution_count": 17,
   "metadata": {},
   "outputs": [],
   "source": [
    "import qutip.testing as qt"
   ]
  },
  {
   "cell_type": "code",
   "execution_count": null,
   "metadata": {},
   "outputs": [
    {
     "name": "stdout",
     "output_type": "stream",
     "text": [
      "\n",
      "QuTiP: Quantum Toolbox in Python\n",
      "Copyright (c) 2011 and later.\n",
      "A. J. Pitchford, P. D. Nation, R. J. Johansson, A. Grimsmo, and C. Granade\n",
      "\n",
      "QuTiP Version:      4.2.0\n",
      "Numpy Version:      1.14.3\n",
      "Scipy Version:      1.1.0\n",
      "Cython Version:     0.28.2\n",
      "Matplotlib Version: 2.2.2\n",
      "Python Version:     3.5.5\n",
      "Number of CPUs:     2\n",
      "BLAS Info:          INTEL MKL\n",
      "OPENMP Installed:   False\n",
      "INTEL MKL Ext:      True\n",
      "Platform Info:      Linux (i686)\n",
      "Installation path:  /home/ren/anaconda3/envs/qutip/lib/python3.5/site-packages/qutip\n",
      "\n"
     ]
    },
    {
     "name": "stderr",
     "output_type": "stream",
     "text": [
      "DEBUG:qutip.logging_utils:Creating logger for qutip.control.grape with policy basic.\n",
      "DEBUG:qutip.logging_utils:Creating logger for qutip.control.optimconfig with policy basic.\n",
      "DEBUG:qutip.logging_utils:Creating logger for qutip.control.dynamics with policy basic.\n",
      "DEBUG:qutip.logging_utils:Creating logger for qutip.control.dump with policy basic.\n",
      "DEBUG:qutip.logging_utils:Creating logger for qutip.control.tslotcomp with policy basic.\n",
      "DEBUG:qutip.logging_utils:Creating logger for qutip.control.fidcomp with policy basic.\n",
      "DEBUG:qutip.logging_utils:Creating logger for qutip.control.propcomp with policy basic.\n",
      "DEBUG:qutip.logging_utils:Creating logger for qutip.control.optimizer with policy basic.\n",
      "DEBUG:qutip.logging_utils:Creating logger for qutip.control.pulsegen with policy basic.\n",
      "DEBUG:qutip.logging_utils:Creating logger for qutip.control.loadparams with policy basic.\n",
      "DEBUG:qutip.logging_utils:Creating logger for qutip.control.pulseoptim with policy basic.\n",
      "Transform 2-level to eigenbasis and back ... ok\n",
      "Transform 10-level real-values to eigenbasis and back ... ok\n",
      "Transform 10-level to eigenbasis and back ... ok\n",
      "Transform 10-level imag to eigenbasis and back ... ok\n",
      "Consistency between transformations of kets and density matrices ... ok\n",
      "Check diagonalization via eigenbasis transformation ... ok\n",
      "Check Qobj eigs and direct eig solver transformations match ... ok\n",
      "Check Qobj eigs and direct eig solver reverse transformations match ... ok\n",
      "brmesolve: simple qubit ... ok\n",
      "brmesolve: c_ops alone ... ok\n",
      "brmesolve: c_ops with a_ops ... ok\n",
      "brmesolve: harmonic oscillator, zero temperature ... ok\n",
      "brmesolve: harmonic oscillator, finite temperature ... ok\n",
      "brmesolve: harmonic oscillator, finite temperature, states ... ok\n",
      "brmesolve: Jaynes-Cummings model, zero temperature ... ok\n",
      "brmesolve: Check for #572 bug. ... ok\n",
      "td_brmesolve: passes all brmesolve tests ... "
     ]
    }
   ],
   "source": [
    "qt.run()"
   ]
  },
  {
   "cell_type": "code",
   "execution_count": null,
   "metadata": {},
   "outputs": [],
   "source": [
    "quit()"
   ]
  },
  {
   "cell_type": "code",
   "execution_count": null,
   "metadata": {},
   "outputs": [],
   "source": []
  }
 ],
 "metadata": {
  "kernelspec": {
   "display_name": "Python 3",
   "language": "python",
   "name": "python3"
  },
  "language_info": {
   "codemirror_mode": {
    "name": "ipython",
    "version": 3
   },
   "file_extension": ".py",
   "mimetype": "text/x-python",
   "name": "python",
   "nbconvert_exporter": "python",
   "pygments_lexer": "ipython3",
   "version": "3.5.5"
  }
 },
 "nbformat": 4,
 "nbformat_minor": 2
}
